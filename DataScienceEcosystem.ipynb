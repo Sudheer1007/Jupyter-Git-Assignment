{
 "cells": [
  {
   "cell_type": "markdown",
   "id": "5712c17a-7561-4e51-82da-438261434903",
   "metadata": {},
   "source": [
    "# Data Science Tools and Ecosystem"
   ]
  },
  {
   "cell_type": "markdown",
   "id": "49404c0f-200a-4a9e-ab4f-0eb0bba4e167",
   "metadata": {},
   "source": [
    "# In this notebook, Data Science Tools and Ecosystem are summarized"
   ]
  },
  {
   "cell_type": "markdown",
   "id": "3e54ecab-6722-42fe-a1f1-e1ceb6613daf",
   "metadata": {},
   "source": [
    "**Objectives:**\n",
    "* List popular languages for data science\n",
    "* List commonly used libraries for data science\n",
    "* List commonly used data science tools"
   ]
  },
  {
   "cell_type": "markdown",
   "id": "8aff0de7-c8d5-4a0c-80db-709dbe0a0ccc",
   "metadata": {},
   "source": [
    "# Some of the popular languages that data scientists use are\n",
    "1. Python\n",
    "2. Scala\n",
    "3. R\n",
    "4. Julia\n",
    "5. SQL"
   ]
  },
  {
   "cell_type": "markdown",
   "id": "88d14a5f-bd52-4721-a023-076e02b5e141",
   "metadata": {},
   "source": [
    "# Some of the commonly used libraries used by Data scientists include:\n",
    "1. Pandas\n",
    "2. Numpy\n",
    "3. Scikit-Learn\n",
    "4. Matplotlib\n",
    "5. Tensorflow"
   ]
  },
  {
   "cell_type": "markdown",
   "id": "2136312b-e44e-4c70-8c57-d699d4b7af34",
   "metadata": {},
   "source": [
    "| Data science Tools|\n",
    "|...........|\n",
    "|Apache Spark|\n",
    "|TensorFlow|\n",
    "|ScikitLearn|\n"
   ]
  },
  {
   "cell_type": "markdown",
   "id": "e881a69f-dea3-43ba-93f0-7c601221efdc",
   "metadata": {},
   "source": [
    "### Below are a few examples of evaluating arithmetic expressions in Python"
   ]
  },
  {
   "cell_type": "code",
   "execution_count": 1,
   "id": "40856b3c-9b82-4b69-94ed-4d785ef304a4",
   "metadata": {},
   "outputs": [
    {
     "name": "stdout",
     "output_type": "stream",
     "text": [
      "17\n"
     ]
    }
   ],
   "source": [
    "# This is a simple arithmetic expression to multiply and then add integers\n",
    "a = (3*4)+5\n",
    "print(a)\n"
   ]
  },
  {
   "cell_type": "code",
   "execution_count": 3,
   "id": "e107cbeb-e37e-44a7-a514-eb34f67462da",
   "metadata": {},
   "outputs": [
    {
     "name": "stdout",
     "output_type": "stream",
     "text": [
      "3.3333333333333335\n"
     ]
    }
   ],
   "source": [
    "# This will convert 200 minutes to hours by dividing by 60\n",
    "Mins = 200\n",
    "Hours = Mins/60\n",
    "print (Hours)\n"
   ]
  },
  {
   "cell_type": "markdown",
   "id": "f37c4471-9fa4-42cf-8534-608b7320bc12",
   "metadata": {},
   "source": [
    "## Author\n",
    "Sudheer"
   ]
  }
 ],
 "metadata": {
  "kernelspec": {
   "display_name": "Python 3 (ipykernel)",
   "language": "python",
   "name": "python3"
  },
  "language_info": {
   "codemirror_mode": {
    "name": "ipython",
    "version": 3
   },
   "file_extension": ".py",
   "mimetype": "text/x-python",
   "name": "python",
   "nbconvert_exporter": "python",
   "pygments_lexer": "ipython3",
   "version": "3.12.3"
  }
 },
 "nbformat": 4,
 "nbformat_minor": 5
}
